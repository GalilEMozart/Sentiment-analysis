{
 "cells": [
  {
   "cell_type": "code",
   "execution_count": 1,
   "metadata": {},
   "outputs": [],
   "source": [
    "import numpy as np\n",
    "import matplotlib.pyplot as plt\n",
    "import pandas as pd\n",
    "import featexp\n",
    "from string import punctuation\n",
    "from sklearn.model_selection import train_test_split\n",
    "from sklearn.ensemble import RandomForestClassifier\n",
    "from sklearn.metrics import roc_auc_score"
   ]
  },
  {
   "cell_type": "code",
   "execution_count": 2,
   "metadata": {},
   "outputs": [],
   "source": [
    "#extrcation de features automatisé"
   ]
  },
  {
   "cell_type": "markdown",
   "metadata": {},
   "source": [
    "### In this notebook you will find  :\n",
    " - Basic data exploration \n",
    " - First implementation of a binary classification using the 1) review length and 2)title as well as 3)two colums that indicate if the review and title started with a capital letter + 4) onehot encoding of the review stars\n",
    " - Second implementation using the example seen in class TfidfVectorizer\n",
    " - In both cases RandomForestClassifier was the algorithm of choice\n",
    " - Both models use train, test, validation set\n",
    " - You can see the ROC curves for both models with the auc score\n",
    " - First model gives an accuracy of 56% while the second one gives 65% of accuracy"
   ]
  },
  {
   "cell_type": "code",
   "execution_count": 3,
   "metadata": {},
   "outputs": [],
   "source": [
    "data = pd.read_csv(\"train_master.csv\")"
   ]
  },
  {
   "cell_type": "markdown",
   "metadata": {},
   "source": [
    "Data exploration"
   ]
  },
  {
   "cell_type": "code",
   "execution_count": 4,
   "metadata": {},
   "outputs": [
    {
     "data": {
      "text/html": [
       "<div>\n",
       "<style scoped>\n",
       "    .dataframe tbody tr th:only-of-type {\n",
       "        vertical-align: middle;\n",
       "    }\n",
       "\n",
       "    .dataframe tbody tr th {\n",
       "        vertical-align: top;\n",
       "    }\n",
       "\n",
       "    .dataframe thead th {\n",
       "        text-align: right;\n",
       "    }\n",
       "</style>\n",
       "<table border=\"1\" class=\"dataframe\">\n",
       "  <thead>\n",
       "    <tr style=\"text-align: right;\">\n",
       "      <th></th>\n",
       "      <th>Unnamed: 0</th>\n",
       "      <th>ID</th>\n",
       "      <th>review_content</th>\n",
       "      <th>review_title</th>\n",
       "      <th>review_stars</th>\n",
       "      <th>product</th>\n",
       "      <th>Target</th>\n",
       "    </tr>\n",
       "  </thead>\n",
       "  <tbody>\n",
       "    <tr>\n",
       "      <th>0</th>\n",
       "      <td>0</td>\n",
       "      <td>0</td>\n",
       "      <td>En appelant un acheteur pour demander si l'écr...</td>\n",
       "      <td>La Police s'inscrit en acheteur privé sur Pric...</td>\n",
       "      <td>5</td>\n",
       "      <td>2fbb619e3606f9b7c213e858a109cda771aa2c47ce50d5...</td>\n",
       "      <td>0</td>\n",
       "    </tr>\n",
       "    <tr>\n",
       "      <th>1</th>\n",
       "      <td>1</td>\n",
       "      <td>1</td>\n",
       "      <td>Alors, là, on a affaire au plus grand Navet ja...</td>\n",
       "      <td>Chef D'Oeuvre Absolu en vue...</td>\n",
       "      <td>5</td>\n",
       "      <td>7b56d9d378d9e999d293f301ac43d044cd7b4786d09afb...</td>\n",
       "      <td>1</td>\n",
       "    </tr>\n",
       "    <tr>\n",
       "      <th>2</th>\n",
       "      <td>2</td>\n",
       "      <td>2</td>\n",
       "      <td>Effet garanti sur la terrase. Ils donnent immé...</td>\n",
       "      <td>Effet garanti sur la terrase. Ils donnent immé...</td>\n",
       "      <td>3</td>\n",
       "      <td>7b37bf5dcb2fafd9229897910318a7dfa11a04ca36893c...</td>\n",
       "      <td>0</td>\n",
       "    </tr>\n",
       "    <tr>\n",
       "      <th>3</th>\n",
       "      <td>4</td>\n",
       "      <td>4</td>\n",
       "      <td>Ordinateur de bureau trés bien pour quelqu'un ...</td>\n",
       "      <td>Apple Power MAC G4</td>\n",
       "      <td>3</td>\n",
       "      <td>f574512e7d2dd1dd73c7f8f804bf16f14c932c5651a01b...</td>\n",
       "      <td>1</td>\n",
       "    </tr>\n",
       "    <tr>\n",
       "      <th>4</th>\n",
       "      <td>5</td>\n",
       "      <td>5</td>\n",
       "      <td>Ma fille adore, elle n'en n'était pas sûre à l...</td>\n",
       "      <td>Comme Hermione</td>\n",
       "      <td>5</td>\n",
       "      <td>a1a58f0f3a35a164fa14bff9e2c1ca8c1202c31499faa1...</td>\n",
       "      <td>1</td>\n",
       "    </tr>\n",
       "    <tr>\n",
       "      <th>...</th>\n",
       "      <td>...</td>\n",
       "      <td>...</td>\n",
       "      <td>...</td>\n",
       "      <td>...</td>\n",
       "      <td>...</td>\n",
       "      <td>...</td>\n",
       "      <td>...</td>\n",
       "    </tr>\n",
       "    <tr>\n",
       "      <th>54131</th>\n",
       "      <td>59995</td>\n",
       "      <td>59995</td>\n",
       "      <td>Bonjour, je suis intereser par votre annonce e...</td>\n",
       "      <td>moto</td>\n",
       "      <td>5</td>\n",
       "      <td>675ebad7919f00b9cb4adb1469054240d8c76018dc27d2...</td>\n",
       "      <td>1</td>\n",
       "    </tr>\n",
       "    <tr>\n",
       "      <th>54132</th>\n",
       "      <td>59996</td>\n",
       "      <td>59996</td>\n",
       "      <td>Voline nous raconte en détail un aspect beauco...</td>\n",
       "      <td>Un témoignage fort contre l'oubli</td>\n",
       "      <td>4</td>\n",
       "      <td>a15a274f7d11ed085c745246bb078098e501198956eeeb...</td>\n",
       "      <td>1</td>\n",
       "    </tr>\n",
       "    <tr>\n",
       "      <th>54133</th>\n",
       "      <td>59997</td>\n",
       "      <td>59997</td>\n",
       "      <td>D'une bonne matière flexible ce double saura s...</td>\n",
       "      <td>Double plaisir</td>\n",
       "      <td>5</td>\n",
       "      <td>32a26794184ba74118c581b1659e85c2133227e18e97c2...</td>\n",
       "      <td>1</td>\n",
       "    </tr>\n",
       "    <tr>\n",
       "      <th>54134</th>\n",
       "      <td>59998</td>\n",
       "      <td>59998</td>\n",
       "      <td>très bien pour compléter des collections de fè...</td>\n",
       "      <td>tres bien</td>\n",
       "      <td>5</td>\n",
       "      <td>018af320f0b08e59032011e0bbc68d42f9486833c0482e...</td>\n",
       "      <td>1</td>\n",
       "    </tr>\n",
       "    <tr>\n",
       "      <th>54135</th>\n",
       "      <td>59999</td>\n",
       "      <td>59999</td>\n",
       "      <td>Retrouvez Louis De funès, Michel Modo, Guy Gro...</td>\n",
       "      <td>Un Classique de De Funès !</td>\n",
       "      <td>5</td>\n",
       "      <td>89875e949f97865a14907a6a6f6da869836a0004adabf0...</td>\n",
       "      <td>0</td>\n",
       "    </tr>\n",
       "  </tbody>\n",
       "</table>\n",
       "<p>54136 rows × 7 columns</p>\n",
       "</div>"
      ],
      "text/plain": [
       "       Unnamed: 0     ID                                     review_content  \\\n",
       "0               0      0  En appelant un acheteur pour demander si l'écr...   \n",
       "1               1      1  Alors, là, on a affaire au plus grand Navet ja...   \n",
       "2               2      2  Effet garanti sur la terrase. Ils donnent immé...   \n",
       "3               4      4  Ordinateur de bureau trés bien pour quelqu'un ...   \n",
       "4               5      5  Ma fille adore, elle n'en n'était pas sûre à l...   \n",
       "...           ...    ...                                                ...   \n",
       "54131       59995  59995  Bonjour, je suis intereser par votre annonce e...   \n",
       "54132       59996  59996  Voline nous raconte en détail un aspect beauco...   \n",
       "54133       59997  59997  D'une bonne matière flexible ce double saura s...   \n",
       "54134       59998  59998  très bien pour compléter des collections de fè...   \n",
       "54135       59999  59999  Retrouvez Louis De funès, Michel Modo, Guy Gro...   \n",
       "\n",
       "                                            review_title  review_stars  \\\n",
       "0      La Police s'inscrit en acheteur privé sur Pric...             5   \n",
       "1                         Chef D'Oeuvre Absolu en vue...             5   \n",
       "2      Effet garanti sur la terrase. Ils donnent immé...             3   \n",
       "3                                     Apple Power MAC G4             3   \n",
       "4                                         Comme Hermione             5   \n",
       "...                                                  ...           ...   \n",
       "54131                                               moto             5   \n",
       "54132                  Un témoignage fort contre l'oubli             4   \n",
       "54133                                     Double plaisir             5   \n",
       "54134                                          tres bien             5   \n",
       "54135                         Un Classique de De Funès !             5   \n",
       "\n",
       "                                                 product  Target  \n",
       "0      2fbb619e3606f9b7c213e858a109cda771aa2c47ce50d5...       0  \n",
       "1      7b56d9d378d9e999d293f301ac43d044cd7b4786d09afb...       1  \n",
       "2      7b37bf5dcb2fafd9229897910318a7dfa11a04ca36893c...       0  \n",
       "3      f574512e7d2dd1dd73c7f8f804bf16f14c932c5651a01b...       1  \n",
       "4      a1a58f0f3a35a164fa14bff9e2c1ca8c1202c31499faa1...       1  \n",
       "...                                                  ...     ...  \n",
       "54131  675ebad7919f00b9cb4adb1469054240d8c76018dc27d2...       1  \n",
       "54132  a15a274f7d11ed085c745246bb078098e501198956eeeb...       1  \n",
       "54133  32a26794184ba74118c581b1659e85c2133227e18e97c2...       1  \n",
       "54134  018af320f0b08e59032011e0bbc68d42f9486833c0482e...       1  \n",
       "54135  89875e949f97865a14907a6a6f6da869836a0004adabf0...       0  \n",
       "\n",
       "[54136 rows x 7 columns]"
      ]
     },
     "execution_count": 4,
     "metadata": {},
     "output_type": "execute_result"
    }
   ],
   "source": [
    "data"
   ]
  },
  {
   "cell_type": "code",
   "execution_count": 5,
   "metadata": {},
   "outputs": [
    {
     "data": {
      "text/plain": [
       "1    29997\n",
       "0    24139\n",
       "Name: Target, dtype: int64"
      ]
     },
     "execution_count": 5,
     "metadata": {},
     "output_type": "execute_result"
    }
   ],
   "source": [
    "data['Target'].value_counts()"
   ]
  },
  {
   "cell_type": "code",
   "execution_count": 6,
   "metadata": {},
   "outputs": [
    {
     "data": {
      "text/plain": [
       "5    34609\n",
       "4    10227\n",
       "3     4147\n",
       "1     3503\n",
       "2     1650\n",
       "Name: review_stars, dtype: int64"
      ]
     },
     "execution_count": 6,
     "metadata": {},
     "output_type": "execute_result"
    }
   ],
   "source": [
    "data['review_stars'].value_counts()"
   ]
  },
  {
   "cell_type": "markdown",
   "metadata": {},
   "source": []
  },
  {
   "cell_type": "code",
   "execution_count": 7,
   "metadata": {},
   "outputs": [],
   "source": [
    "data['review_length']  = data['review_content'].str.len()\n",
    "data['title_length'] = data['review_title'].str.len()\n"
   ]
  },
  {
   "cell_type": "code",
   "execution_count": 8,
   "metadata": {},
   "outputs": [
    {
     "data": {
      "text/plain": [
       "Unnamed: 0        0\n",
       "ID                0\n",
       "review_content    0\n",
       "review_title      3\n",
       "review_stars      0\n",
       "product           0\n",
       "Target            0\n",
       "review_length     0\n",
       "title_length      3\n",
       "dtype: int64"
      ]
     },
     "execution_count": 8,
     "metadata": {},
     "output_type": "execute_result"
    }
   ],
   "source": [
    "data.isnull().sum()"
   ]
  },
  {
   "cell_type": "markdown",
   "metadata": {},
   "source": [
    "as we have very few nan values we can drop the empty rows, it will not impact globally on our model"
   ]
  },
  {
   "cell_type": "code",
   "execution_count": 9,
   "metadata": {},
   "outputs": [],
   "source": [
    "data = data.dropna()"
   ]
  },
  {
   "cell_type": "code",
   "execution_count": 10,
   "metadata": {},
   "outputs": [
    {
     "name": "stderr",
     "output_type": "stream",
     "text": [
      "/tmp/ipykernel_8179/3562881052.py:1: SettingWithCopyWarning: \n",
      "A value is trying to be set on a copy of a slice from a DataFrame.\n",
      "Try using .loc[row_indexer,col_indexer] = value instead\n",
      "\n",
      "See the caveats in the documentation: https://pandas.pydata.org/pandas-docs/stable/user_guide/indexing.html#returning-a-view-versus-a-copy\n",
      "  data['first_letter'] = data['review_content'].astype(str).str[0]\n",
      "/tmp/ipykernel_8179/3562881052.py:2: SettingWithCopyWarning: \n",
      "A value is trying to be set on a copy of a slice from a DataFrame.\n",
      "Try using .loc[row_indexer,col_indexer] = value instead\n",
      "\n",
      "See the caveats in the documentation: https://pandas.pydata.org/pandas-docs/stable/user_guide/indexing.html#returning-a-view-versus-a-copy\n",
      "  data['first_letter_title'] = data['review_title'].astype(str).str[0]\n"
     ]
    }
   ],
   "source": [
    "data['first_letter'] = data['review_content'].astype(str).str[0]\n",
    "data['first_letter_title'] = data['review_title'].astype(str).str[0]"
   ]
  },
  {
   "cell_type": "markdown",
   "metadata": {},
   "source": [
    "Extract the first letter then create a predicate if the review or title starts with a capital letter"
   ]
  },
  {
   "cell_type": "code",
   "execution_count": 11,
   "metadata": {},
   "outputs": [
    {
     "name": "stderr",
     "output_type": "stream",
     "text": [
      "/tmp/ipykernel_8179/1983677762.py:1: SettingWithCopyWarning: \n",
      "A value is trying to be set on a copy of a slice from a DataFrame.\n",
      "Try using .loc[row_indexer,col_indexer] = value instead\n",
      "\n",
      "See the caveats in the documentation: https://pandas.pydata.org/pandas-docs/stable/user_guide/indexing.html#returning-a-view-versus-a-copy\n",
      "  data['is_upper'] = data['first_letter'].str.isupper()\n",
      "/tmp/ipykernel_8179/1983677762.py:2: SettingWithCopyWarning: \n",
      "A value is trying to be set on a copy of a slice from a DataFrame.\n",
      "Try using .loc[row_indexer,col_indexer] = value instead\n",
      "\n",
      "See the caveats in the documentation: https://pandas.pydata.org/pandas-docs/stable/user_guide/indexing.html#returning-a-view-versus-a-copy\n",
      "  data['is_upper_title'] = data['first_letter_title'].str.isupper()\n"
     ]
    }
   ],
   "source": [
    "data['is_upper'] = data['first_letter'].str.isupper()\n",
    "data['is_upper_title'] = data['first_letter_title'].str.isupper()"
   ]
  },
  {
   "cell_type": "markdown",
   "metadata": {},
   "source": [
    "If we explore better our data we can see that review_stars column can de considered as a categorical value, so it os interesting to apply a onehot encoder to see its impact on the model"
   ]
  },
  {
   "cell_type": "code",
   "execution_count": 12,
   "metadata": {},
   "outputs": [],
   "source": [
    "from sklearn.preprocessing import OneHotEncoder\n",
    "enc = OneHotEncoder(handle_unknown='ignore')\n",
    "enc_df = pd.DataFrame(enc.fit_transform(data[['review_stars']]).toarray())"
   ]
  },
  {
   "cell_type": "code",
   "execution_count": 13,
   "metadata": {},
   "outputs": [],
   "source": [
    "data = data.join(enc_df)"
   ]
  },
  {
   "cell_type": "code",
   "execution_count": null,
   "metadata": {},
   "outputs": [],
   "source": []
  },
  {
   "cell_type": "code",
   "execution_count": 15,
   "metadata": {},
   "outputs": [
    {
     "data": {
      "text/html": [
       "<div>\n",
       "<style scoped>\n",
       "    .dataframe tbody tr th:only-of-type {\n",
       "        vertical-align: middle;\n",
       "    }\n",
       "\n",
       "    .dataframe tbody tr th {\n",
       "        vertical-align: top;\n",
       "    }\n",
       "\n",
       "    .dataframe thead th {\n",
       "        text-align: right;\n",
       "    }\n",
       "</style>\n",
       "<table border=\"1\" class=\"dataframe\">\n",
       "  <thead>\n",
       "    <tr style=\"text-align: right;\">\n",
       "      <th></th>\n",
       "      <th>Unnamed: 0</th>\n",
       "      <th>ID</th>\n",
       "      <th>review_content</th>\n",
       "      <th>review_title</th>\n",
       "      <th>review_stars</th>\n",
       "      <th>product</th>\n",
       "      <th>Target</th>\n",
       "      <th>review_length</th>\n",
       "      <th>title_length</th>\n",
       "      <th>first_letter</th>\n",
       "      <th>first_letter_title</th>\n",
       "      <th>is_upper</th>\n",
       "      <th>is_upper_title</th>\n",
       "      <th>0</th>\n",
       "      <th>1</th>\n",
       "      <th>2</th>\n",
       "      <th>3</th>\n",
       "      <th>4</th>\n",
       "    </tr>\n",
       "  </thead>\n",
       "  <tbody>\n",
       "    <tr>\n",
       "      <th>0</th>\n",
       "      <td>0</td>\n",
       "      <td>0</td>\n",
       "      <td>En appelant un acheteur pour demander si l'écr...</td>\n",
       "      <td>La Police s'inscrit en acheteur privé sur Pric...</td>\n",
       "      <td>5</td>\n",
       "      <td>2fbb619e3606f9b7c213e858a109cda771aa2c47ce50d5...</td>\n",
       "      <td>0</td>\n",
       "      <td>382</td>\n",
       "      <td>55.0</td>\n",
       "      <td>E</td>\n",
       "      <td>L</td>\n",
       "      <td>True</td>\n",
       "      <td>True</td>\n",
       "      <td>0.0</td>\n",
       "      <td>0.0</td>\n",
       "      <td>0.0</td>\n",
       "      <td>0.0</td>\n",
       "      <td>1.0</td>\n",
       "    </tr>\n",
       "    <tr>\n",
       "      <th>1</th>\n",
       "      <td>1</td>\n",
       "      <td>1</td>\n",
       "      <td>Alors, là, on a affaire au plus grand Navet ja...</td>\n",
       "      <td>Chef D'Oeuvre Absolu en vue...</td>\n",
       "      <td>5</td>\n",
       "      <td>7b56d9d378d9e999d293f301ac43d044cd7b4786d09afb...</td>\n",
       "      <td>1</td>\n",
       "      <td>1000</td>\n",
       "      <td>30.0</td>\n",
       "      <td>A</td>\n",
       "      <td>C</td>\n",
       "      <td>True</td>\n",
       "      <td>True</td>\n",
       "      <td>0.0</td>\n",
       "      <td>0.0</td>\n",
       "      <td>0.0</td>\n",
       "      <td>0.0</td>\n",
       "      <td>1.0</td>\n",
       "    </tr>\n",
       "    <tr>\n",
       "      <th>2</th>\n",
       "      <td>2</td>\n",
       "      <td>2</td>\n",
       "      <td>Effet garanti sur la terrase. Ils donnent immé...</td>\n",
       "      <td>Effet garanti sur la terrase. Ils donnent immé...</td>\n",
       "      <td>3</td>\n",
       "      <td>7b37bf5dcb2fafd9229897910318a7dfa11a04ca36893c...</td>\n",
       "      <td>0</td>\n",
       "      <td>194</td>\n",
       "      <td>97.0</td>\n",
       "      <td>E</td>\n",
       "      <td>E</td>\n",
       "      <td>True</td>\n",
       "      <td>True</td>\n",
       "      <td>0.0</td>\n",
       "      <td>0.0</td>\n",
       "      <td>1.0</td>\n",
       "      <td>0.0</td>\n",
       "      <td>0.0</td>\n",
       "    </tr>\n",
       "    <tr>\n",
       "      <th>3</th>\n",
       "      <td>4</td>\n",
       "      <td>4</td>\n",
       "      <td>Ordinateur de bureau trés bien pour quelqu'un ...</td>\n",
       "      <td>Apple Power MAC G4</td>\n",
       "      <td>3</td>\n",
       "      <td>f574512e7d2dd1dd73c7f8f804bf16f14c932c5651a01b...</td>\n",
       "      <td>1</td>\n",
       "      <td>124</td>\n",
       "      <td>18.0</td>\n",
       "      <td>O</td>\n",
       "      <td>A</td>\n",
       "      <td>True</td>\n",
       "      <td>True</td>\n",
       "      <td>0.0</td>\n",
       "      <td>0.0</td>\n",
       "      <td>1.0</td>\n",
       "      <td>0.0</td>\n",
       "      <td>0.0</td>\n",
       "    </tr>\n",
       "    <tr>\n",
       "      <th>4</th>\n",
       "      <td>5</td>\n",
       "      <td>5</td>\n",
       "      <td>Ma fille adore, elle n'en n'était pas sûre à l...</td>\n",
       "      <td>Comme Hermione</td>\n",
       "      <td>5</td>\n",
       "      <td>a1a58f0f3a35a164fa14bff9e2c1ca8c1202c31499faa1...</td>\n",
       "      <td>1</td>\n",
       "      <td>102</td>\n",
       "      <td>14.0</td>\n",
       "      <td>M</td>\n",
       "      <td>C</td>\n",
       "      <td>True</td>\n",
       "      <td>True</td>\n",
       "      <td>0.0</td>\n",
       "      <td>0.0</td>\n",
       "      <td>0.0</td>\n",
       "      <td>0.0</td>\n",
       "      <td>1.0</td>\n",
       "    </tr>\n",
       "    <tr>\n",
       "      <th>...</th>\n",
       "      <td>...</td>\n",
       "      <td>...</td>\n",
       "      <td>...</td>\n",
       "      <td>...</td>\n",
       "      <td>...</td>\n",
       "      <td>...</td>\n",
       "      <td>...</td>\n",
       "      <td>...</td>\n",
       "      <td>...</td>\n",
       "      <td>...</td>\n",
       "      <td>...</td>\n",
       "      <td>...</td>\n",
       "      <td>...</td>\n",
       "      <td>...</td>\n",
       "      <td>...</td>\n",
       "      <td>...</td>\n",
       "      <td>...</td>\n",
       "      <td>...</td>\n",
       "    </tr>\n",
       "    <tr>\n",
       "      <th>54131</th>\n",
       "      <td>59995</td>\n",
       "      <td>59995</td>\n",
       "      <td>Bonjour, je suis intereser par votre annonce e...</td>\n",
       "      <td>moto</td>\n",
       "      <td>5</td>\n",
       "      <td>675ebad7919f00b9cb4adb1469054240d8c76018dc27d2...</td>\n",
       "      <td>1</td>\n",
       "      <td>98</td>\n",
       "      <td>4.0</td>\n",
       "      <td>B</td>\n",
       "      <td>m</td>\n",
       "      <td>True</td>\n",
       "      <td>False</td>\n",
       "      <td>0.0</td>\n",
       "      <td>0.0</td>\n",
       "      <td>0.0</td>\n",
       "      <td>0.0</td>\n",
       "      <td>1.0</td>\n",
       "    </tr>\n",
       "    <tr>\n",
       "      <th>54132</th>\n",
       "      <td>59996</td>\n",
       "      <td>59996</td>\n",
       "      <td>Voline nous raconte en détail un aspect beauco...</td>\n",
       "      <td>Un témoignage fort contre l'oubli</td>\n",
       "      <td>4</td>\n",
       "      <td>a15a274f7d11ed085c745246bb078098e501198956eeeb...</td>\n",
       "      <td>1</td>\n",
       "      <td>516</td>\n",
       "      <td>33.0</td>\n",
       "      <td>V</td>\n",
       "      <td>U</td>\n",
       "      <td>True</td>\n",
       "      <td>True</td>\n",
       "      <td>0.0</td>\n",
       "      <td>0.0</td>\n",
       "      <td>0.0</td>\n",
       "      <td>0.0</td>\n",
       "      <td>1.0</td>\n",
       "    </tr>\n",
       "    <tr>\n",
       "      <th>54133</th>\n",
       "      <td>59997</td>\n",
       "      <td>59997</td>\n",
       "      <td>D'une bonne matière flexible ce double saura s...</td>\n",
       "      <td>Double plaisir</td>\n",
       "      <td>5</td>\n",
       "      <td>32a26794184ba74118c581b1659e85c2133227e18e97c2...</td>\n",
       "      <td>1</td>\n",
       "      <td>73</td>\n",
       "      <td>14.0</td>\n",
       "      <td>D</td>\n",
       "      <td>D</td>\n",
       "      <td>True</td>\n",
       "      <td>True</td>\n",
       "      <td>NaN</td>\n",
       "      <td>NaN</td>\n",
       "      <td>NaN</td>\n",
       "      <td>NaN</td>\n",
       "      <td>NaN</td>\n",
       "    </tr>\n",
       "    <tr>\n",
       "      <th>54134</th>\n",
       "      <td>59998</td>\n",
       "      <td>59998</td>\n",
       "      <td>très bien pour compléter des collections de fè...</td>\n",
       "      <td>tres bien</td>\n",
       "      <td>5</td>\n",
       "      <td>018af320f0b08e59032011e0bbc68d42f9486833c0482e...</td>\n",
       "      <td>1</td>\n",
       "      <td>80</td>\n",
       "      <td>9.0</td>\n",
       "      <td>t</td>\n",
       "      <td>t</td>\n",
       "      <td>False</td>\n",
       "      <td>False</td>\n",
       "      <td>NaN</td>\n",
       "      <td>NaN</td>\n",
       "      <td>NaN</td>\n",
       "      <td>NaN</td>\n",
       "      <td>NaN</td>\n",
       "    </tr>\n",
       "    <tr>\n",
       "      <th>54135</th>\n",
       "      <td>59999</td>\n",
       "      <td>59999</td>\n",
       "      <td>Retrouvez Louis De funès, Michel Modo, Guy Gro...</td>\n",
       "      <td>Un Classique de De Funès !</td>\n",
       "      <td>5</td>\n",
       "      <td>89875e949f97865a14907a6a6f6da869836a0004adabf0...</td>\n",
       "      <td>0</td>\n",
       "      <td>405</td>\n",
       "      <td>26.0</td>\n",
       "      <td>R</td>\n",
       "      <td>U</td>\n",
       "      <td>True</td>\n",
       "      <td>True</td>\n",
       "      <td>NaN</td>\n",
       "      <td>NaN</td>\n",
       "      <td>NaN</td>\n",
       "      <td>NaN</td>\n",
       "      <td>NaN</td>\n",
       "    </tr>\n",
       "  </tbody>\n",
       "</table>\n",
       "<p>54133 rows × 18 columns</p>\n",
       "</div>"
      ],
      "text/plain": [
       "       Unnamed: 0     ID                                     review_content  \\\n",
       "0               0      0  En appelant un acheteur pour demander si l'écr...   \n",
       "1               1      1  Alors, là, on a affaire au plus grand Navet ja...   \n",
       "2               2      2  Effet garanti sur la terrase. Ils donnent immé...   \n",
       "3               4      4  Ordinateur de bureau trés bien pour quelqu'un ...   \n",
       "4               5      5  Ma fille adore, elle n'en n'était pas sûre à l...   \n",
       "...           ...    ...                                                ...   \n",
       "54131       59995  59995  Bonjour, je suis intereser par votre annonce e...   \n",
       "54132       59996  59996  Voline nous raconte en détail un aspect beauco...   \n",
       "54133       59997  59997  D'une bonne matière flexible ce double saura s...   \n",
       "54134       59998  59998  très bien pour compléter des collections de fè...   \n",
       "54135       59999  59999  Retrouvez Louis De funès, Michel Modo, Guy Gro...   \n",
       "\n",
       "                                            review_title  review_stars  \\\n",
       "0      La Police s'inscrit en acheteur privé sur Pric...             5   \n",
       "1                         Chef D'Oeuvre Absolu en vue...             5   \n",
       "2      Effet garanti sur la terrase. Ils donnent immé...             3   \n",
       "3                                     Apple Power MAC G4             3   \n",
       "4                                         Comme Hermione             5   \n",
       "...                                                  ...           ...   \n",
       "54131                                               moto             5   \n",
       "54132                  Un témoignage fort contre l'oubli             4   \n",
       "54133                                     Double plaisir             5   \n",
       "54134                                          tres bien             5   \n",
       "54135                         Un Classique de De Funès !             5   \n",
       "\n",
       "                                                 product  Target  \\\n",
       "0      2fbb619e3606f9b7c213e858a109cda771aa2c47ce50d5...       0   \n",
       "1      7b56d9d378d9e999d293f301ac43d044cd7b4786d09afb...       1   \n",
       "2      7b37bf5dcb2fafd9229897910318a7dfa11a04ca36893c...       0   \n",
       "3      f574512e7d2dd1dd73c7f8f804bf16f14c932c5651a01b...       1   \n",
       "4      a1a58f0f3a35a164fa14bff9e2c1ca8c1202c31499faa1...       1   \n",
       "...                                                  ...     ...   \n",
       "54131  675ebad7919f00b9cb4adb1469054240d8c76018dc27d2...       1   \n",
       "54132  a15a274f7d11ed085c745246bb078098e501198956eeeb...       1   \n",
       "54133  32a26794184ba74118c581b1659e85c2133227e18e97c2...       1   \n",
       "54134  018af320f0b08e59032011e0bbc68d42f9486833c0482e...       1   \n",
       "54135  89875e949f97865a14907a6a6f6da869836a0004adabf0...       0   \n",
       "\n",
       "       review_length  title_length first_letter first_letter_title  is_upper  \\\n",
       "0                382          55.0            E                  L      True   \n",
       "1               1000          30.0            A                  C      True   \n",
       "2                194          97.0            E                  E      True   \n",
       "3                124          18.0            O                  A      True   \n",
       "4                102          14.0            M                  C      True   \n",
       "...              ...           ...          ...                ...       ...   \n",
       "54131             98           4.0            B                  m      True   \n",
       "54132            516          33.0            V                  U      True   \n",
       "54133             73          14.0            D                  D      True   \n",
       "54134             80           9.0            t                  t     False   \n",
       "54135            405          26.0            R                  U      True   \n",
       "\n",
       "       is_upper_title    0    1    2    3    4  \n",
       "0                True  0.0  0.0  0.0  0.0  1.0  \n",
       "1                True  0.0  0.0  0.0  0.0  1.0  \n",
       "2                True  0.0  0.0  1.0  0.0  0.0  \n",
       "3                True  0.0  0.0  1.0  0.0  0.0  \n",
       "4                True  0.0  0.0  0.0  0.0  1.0  \n",
       "...               ...  ...  ...  ...  ...  ...  \n",
       "54131           False  0.0  0.0  0.0  0.0  1.0  \n",
       "54132            True  0.0  0.0  0.0  0.0  1.0  \n",
       "54133            True  NaN  NaN  NaN  NaN  NaN  \n",
       "54134           False  NaN  NaN  NaN  NaN  NaN  \n",
       "54135            True  NaN  NaN  NaN  NaN  NaN  \n",
       "\n",
       "[54133 rows x 18 columns]"
      ]
     },
     "execution_count": 15,
     "metadata": {},
     "output_type": "execute_result"
    }
   ],
   "source": [
    "data"
   ]
  },
  {
   "cell_type": "code",
   "execution_count": 16,
   "metadata": {},
   "outputs": [],
   "source": [
    "data = data.dropna()"
   ]
  },
  {
   "cell_type": "markdown",
   "metadata": {},
   "source": [
    "We chose our X and y"
   ]
  },
  {
   "cell_type": "code",
   "execution_count": 17,
   "metadata": {},
   "outputs": [],
   "source": [
    "X = data[['is_upper_title',\n",
    "         'review_length', 'title_length','is_upper',0,1,2,3,4]]\n",
    "y = data[['Target']]"
   ]
  },
  {
   "cell_type": "code",
   "execution_count": 18,
   "metadata": {},
   "outputs": [
    {
     "name": "stdout",
     "output_type": "stream",
     "text": [
      "En appelant un acheteur pour demander si l'écran qu'il m'as acheté fonctionne toujours, il m'a répondu depuis le commissariat. Il était venu retirer l'objet en précisant à l'entrée de mon domicile \"je suis policier\", il est resté assis et m'a posé des questions sans rapport avec l'objet a retirer. Son numéro inscrit sur Priceminister renvoi au poste de son bureau au commissariat.\n"
     ]
    }
   ],
   "source": [
    "print(data.review_content[0])"
   ]
  },
  {
   "cell_type": "code",
   "execution_count": 19,
   "metadata": {},
   "outputs": [
    {
     "data": {
      "text/html": [
       "<div>\n",
       "<style scoped>\n",
       "    .dataframe tbody tr th:only-of-type {\n",
       "        vertical-align: middle;\n",
       "    }\n",
       "\n",
       "    .dataframe tbody tr th {\n",
       "        vertical-align: top;\n",
       "    }\n",
       "\n",
       "    .dataframe thead th {\n",
       "        text-align: right;\n",
       "    }\n",
       "</style>\n",
       "<table border=\"1\" class=\"dataframe\">\n",
       "  <thead>\n",
       "    <tr style=\"text-align: right;\">\n",
       "      <th></th>\n",
       "      <th>is_upper_title</th>\n",
       "      <th>review_length</th>\n",
       "      <th>title_length</th>\n",
       "      <th>is_upper</th>\n",
       "      <th>0</th>\n",
       "      <th>1</th>\n",
       "      <th>2</th>\n",
       "      <th>3</th>\n",
       "      <th>4</th>\n",
       "    </tr>\n",
       "  </thead>\n",
       "  <tbody>\n",
       "    <tr>\n",
       "      <th>0</th>\n",
       "      <td>True</td>\n",
       "      <td>382</td>\n",
       "      <td>55.0</td>\n",
       "      <td>True</td>\n",
       "      <td>0.0</td>\n",
       "      <td>0.0</td>\n",
       "      <td>0.0</td>\n",
       "      <td>0.0</td>\n",
       "      <td>1.0</td>\n",
       "    </tr>\n",
       "    <tr>\n",
       "      <th>1</th>\n",
       "      <td>True</td>\n",
       "      <td>1000</td>\n",
       "      <td>30.0</td>\n",
       "      <td>True</td>\n",
       "      <td>0.0</td>\n",
       "      <td>0.0</td>\n",
       "      <td>0.0</td>\n",
       "      <td>0.0</td>\n",
       "      <td>1.0</td>\n",
       "    </tr>\n",
       "    <tr>\n",
       "      <th>2</th>\n",
       "      <td>True</td>\n",
       "      <td>194</td>\n",
       "      <td>97.0</td>\n",
       "      <td>True</td>\n",
       "      <td>0.0</td>\n",
       "      <td>0.0</td>\n",
       "      <td>1.0</td>\n",
       "      <td>0.0</td>\n",
       "      <td>0.0</td>\n",
       "    </tr>\n",
       "    <tr>\n",
       "      <th>3</th>\n",
       "      <td>True</td>\n",
       "      <td>124</td>\n",
       "      <td>18.0</td>\n",
       "      <td>True</td>\n",
       "      <td>0.0</td>\n",
       "      <td>0.0</td>\n",
       "      <td>1.0</td>\n",
       "      <td>0.0</td>\n",
       "      <td>0.0</td>\n",
       "    </tr>\n",
       "    <tr>\n",
       "      <th>4</th>\n",
       "      <td>True</td>\n",
       "      <td>102</td>\n",
       "      <td>14.0</td>\n",
       "      <td>True</td>\n",
       "      <td>0.0</td>\n",
       "      <td>0.0</td>\n",
       "      <td>0.0</td>\n",
       "      <td>0.0</td>\n",
       "      <td>1.0</td>\n",
       "    </tr>\n",
       "    <tr>\n",
       "      <th>...</th>\n",
       "      <td>...</td>\n",
       "      <td>...</td>\n",
       "      <td>...</td>\n",
       "      <td>...</td>\n",
       "      <td>...</td>\n",
       "      <td>...</td>\n",
       "      <td>...</td>\n",
       "      <td>...</td>\n",
       "      <td>...</td>\n",
       "    </tr>\n",
       "    <tr>\n",
       "      <th>54128</th>\n",
       "      <td>True</td>\n",
       "      <td>299</td>\n",
       "      <td>19.0</td>\n",
       "      <td>True</td>\n",
       "      <td>0.0</td>\n",
       "      <td>0.0</td>\n",
       "      <td>0.0</td>\n",
       "      <td>0.0</td>\n",
       "      <td>1.0</td>\n",
       "    </tr>\n",
       "    <tr>\n",
       "      <th>54129</th>\n",
       "      <td>True</td>\n",
       "      <td>99</td>\n",
       "      <td>9.0</td>\n",
       "      <td>True</td>\n",
       "      <td>0.0</td>\n",
       "      <td>0.0</td>\n",
       "      <td>0.0</td>\n",
       "      <td>1.0</td>\n",
       "      <td>0.0</td>\n",
       "    </tr>\n",
       "    <tr>\n",
       "      <th>54130</th>\n",
       "      <td>False</td>\n",
       "      <td>104</td>\n",
       "      <td>37.0</td>\n",
       "      <td>False</td>\n",
       "      <td>0.0</td>\n",
       "      <td>0.0</td>\n",
       "      <td>0.0</td>\n",
       "      <td>0.0</td>\n",
       "      <td>1.0</td>\n",
       "    </tr>\n",
       "    <tr>\n",
       "      <th>54131</th>\n",
       "      <td>False</td>\n",
       "      <td>98</td>\n",
       "      <td>4.0</td>\n",
       "      <td>True</td>\n",
       "      <td>0.0</td>\n",
       "      <td>0.0</td>\n",
       "      <td>0.0</td>\n",
       "      <td>0.0</td>\n",
       "      <td>1.0</td>\n",
       "    </tr>\n",
       "    <tr>\n",
       "      <th>54132</th>\n",
       "      <td>True</td>\n",
       "      <td>516</td>\n",
       "      <td>33.0</td>\n",
       "      <td>True</td>\n",
       "      <td>0.0</td>\n",
       "      <td>0.0</td>\n",
       "      <td>0.0</td>\n",
       "      <td>0.0</td>\n",
       "      <td>1.0</td>\n",
       "    </tr>\n",
       "  </tbody>\n",
       "</table>\n",
       "<p>54130 rows × 9 columns</p>\n",
       "</div>"
      ],
      "text/plain": [
       "       is_upper_title  review_length  title_length  is_upper    0    1    2  \\\n",
       "0                True            382          55.0      True  0.0  0.0  0.0   \n",
       "1                True           1000          30.0      True  0.0  0.0  0.0   \n",
       "2                True            194          97.0      True  0.0  0.0  1.0   \n",
       "3                True            124          18.0      True  0.0  0.0  1.0   \n",
       "4                True            102          14.0      True  0.0  0.0  0.0   \n",
       "...               ...            ...           ...       ...  ...  ...  ...   \n",
       "54128            True            299          19.0      True  0.0  0.0  0.0   \n",
       "54129            True             99           9.0      True  0.0  0.0  0.0   \n",
       "54130           False            104          37.0     False  0.0  0.0  0.0   \n",
       "54131           False             98           4.0      True  0.0  0.0  0.0   \n",
       "54132            True            516          33.0      True  0.0  0.0  0.0   \n",
       "\n",
       "         3    4  \n",
       "0      0.0  1.0  \n",
       "1      0.0  1.0  \n",
       "2      0.0  0.0  \n",
       "3      0.0  0.0  \n",
       "4      0.0  1.0  \n",
       "...    ...  ...  \n",
       "54128  0.0  1.0  \n",
       "54129  1.0  0.0  \n",
       "54130  0.0  1.0  \n",
       "54131  0.0  1.0  \n",
       "54132  0.0  1.0  \n",
       "\n",
       "[54130 rows x 9 columns]"
      ]
     },
     "execution_count": 19,
     "metadata": {},
     "output_type": "execute_result"
    }
   ],
   "source": [
    "X"
   ]
  },
  {
   "cell_type": "code",
   "execution_count": 20,
   "metadata": {},
   "outputs": [],
   "source": [
    "X_train, X_test, y_train, y_test = train_test_split(X, y, test_size = 0.20)\n",
    "X_train, X_val, y_train, y_val = train_test_split(X_train, y_train, test_size=0.25, random_state=1)"
   ]
  },
  {
   "cell_type": "code",
   "execution_count": 21,
   "metadata": {},
   "outputs": [],
   "source": [
    "clf = RandomForestClassifier(n_estimators = 100)  "
   ]
  },
  {
   "cell_type": "code",
   "execution_count": 22,
   "metadata": {},
   "outputs": [
    {
     "name": "stderr",
     "output_type": "stream",
     "text": [
      "/tmp/ipykernel_8179/3370698913.py:1: DataConversionWarning: A column-vector y was passed when a 1d array was expected. Please change the shape of y to (n_samples,), for example using ravel().\n",
      "  clf.fit(X_train, y_train)\n"
     ]
    }
   ],
   "source": [
    "clf.fit(X_train, y_train)\n",
    "  \n",
    "# performing predictions on the test dataset\n",
    "y_pred = clf.predict(X_test)\n",
    "y_pred_val = clf.predict(X_val)"
   ]
  },
  {
   "cell_type": "code",
   "execution_count": 23,
   "metadata": {},
   "outputs": [
    {
     "data": {
      "text/plain": [
       "0.5653981156475152"
      ]
     },
     "execution_count": 23,
     "metadata": {},
     "output_type": "execute_result"
    }
   ],
   "source": [
    "from sklearn import metrics  \n",
    "\n",
    "metrics.accuracy_score(y_val, y_pred_val)"
   ]
  },
  {
   "cell_type": "code",
   "execution_count": 24,
   "metadata": {},
   "outputs": [
    {
     "data": {
      "text/plain": [
       "0.5716792905967116"
      ]
     },
     "execution_count": 24,
     "metadata": {},
     "output_type": "execute_result"
    }
   ],
   "source": [
    "metrics.accuracy_score(y_test, y_pred)"
   ]
  },
  {
   "cell_type": "code",
   "execution_count": 25,
   "metadata": {},
   "outputs": [
    {
     "data": {
      "text/plain": [
       "0.5920490915767913"
      ]
     },
     "execution_count": 25,
     "metadata": {},
     "output_type": "execute_result"
    }
   ],
   "source": [
    "roc_auc_score(y_test, clf.predict_proba(X_test)[:, 1])"
   ]
  },
  {
   "cell_type": "code",
   "execution_count": 26,
   "metadata": {},
   "outputs": [
    {
     "data": {
      "text/plain": [
       "0.5877608911081442"
      ]
     },
     "execution_count": 26,
     "metadata": {},
     "output_type": "execute_result"
    }
   ],
   "source": [
    "roc_auc_score(y_val, clf.predict_proba(X_val)[:, 1])"
   ]
  },
  {
   "cell_type": "code",
   "execution_count": 27,
   "metadata": {},
   "outputs": [],
   "source": [
    "from sklearn.metrics import roc_curve  \n",
    "def plot_roc_curve(fper, tper):  \n",
    "    plt.plot(fper, tper, color='orange', label='ROC')\n",
    "    plt.plot([0, 1], [0, 1], color='darkblue', linestyle='--')\n",
    "    plt.xlabel('False Positive Rate')\n",
    "    plt.ylabel('True Positive Rate')\n",
    "    plt.title('Receiver Operating Characteristic (ROC) Curve')\n",
    "    plt.legend()\n",
    "    plt.show()"
   ]
  },
  {
   "cell_type": "code",
   "execution_count": null,
   "metadata": {},
   "outputs": [],
   "source": []
  },
  {
   "cell_type": "code",
   "execution_count": 28,
   "metadata": {},
   "outputs": [
    {
     "data": {
      "image/png": "[encoded data removed]",
      "text/plain": [
       "<Figure size 432x288 with 1 Axes>"
      ]
     },
     "metadata": {
      "needs_background": "light"
     },
     "output_type": "display_data"
    }
   ],
   "source": [
    "probs = clf.predict_proba(X_test)  \n",
    "probs = probs[:, 1]  \n",
    "fper, tper, thresholds = roc_curve(y_test, probs) \n",
    "plot_roc_curve(fper, tper)"
   ]
  },
  {
   "cell_type": "code",
   "execution_count": null,
   "metadata": {},
   "outputs": [],
   "source": []
  },
  {
   "cell_type": "markdown",
   "metadata": {},
   "source": [
    "### Second model using TfidVectorizer"
   ]
  },
  {
   "cell_type": "code",
   "execution_count": null,
   "metadata": {},
   "outputs": [],
   "source": []
  },
  {
   "cell_type": "code",
   "execution_count": 29,
   "metadata": {},
   "outputs": [],
   "source": [
    "from sklearn.feature_extraction.text import TfidfVectorizer"
   ]
  },
  {
   "cell_type": "code",
   "execution_count": 30,
   "metadata": {},
   "outputs": [],
   "source": [
    "tfidfvectorizer = TfidfVectorizer(analyzer='word',stop_words= 'french')"
   ]
  },
  {
   "cell_type": "code",
   "execution_count": 31,
   "metadata": {},
   "outputs": [],
   "source": [
    "\n",
    "X_train_bis, X_test_bis, y_train_bis, y_test_bis = train_test_split(data.review_content, data.Target, test_size=.2, random_state=42)\n",
    "X_train_bis, X_val_bis, y_train_bis, y_val_bis = train_test_split(X_train_bis, y_train_bis, test_size=0.25, random_state=1)"
   ]
  },
  {
   "cell_type": "code",
   "execution_count": 32,
   "metadata": {},
   "outputs": [],
   "source": [
    "vectorizer = TfidfVectorizer().fit(X_train_bis)"
   ]
  },
  {
   "cell_type": "code",
   "execution_count": null,
   "metadata": {},
   "outputs": [],
   "source": []
  },
  {
   "cell_type": "code",
   "execution_count": 33,
   "metadata": {},
   "outputs": [],
   "source": [
    "trans_X_train = vectorizer.transform(X_train_bis.tolist())\n",
    "trans_X_test = vectorizer.transform(X_test_bis.tolist())\n",
    "trans_X_val =  vectorizer.transform(X_val_bis.tolist())"
   ]
  },
  {
   "cell_type": "code",
   "execution_count": 34,
   "metadata": {},
   "outputs": [],
   "source": [
    "clf2 = RandomForestClassifier(n_estimators = 100).fit(trans_X_train,y_train_bis)"
   ]
  },
  {
   "cell_type": "code",
   "execution_count": 35,
   "metadata": {},
   "outputs": [],
   "source": [
    "y_pred_bis = clf2.predict(trans_X_test)\n",
    "y_pred_bis_val = clf2.predict(trans_X_val)\n"
   ]
  },
  {
   "cell_type": "code",
   "execution_count": 36,
   "metadata": {},
   "outputs": [
    {
     "data": {
      "text/plain": [
       "0.6584149270275264"
      ]
     },
     "execution_count": 36,
     "metadata": {},
     "output_type": "execute_result"
    }
   ],
   "source": [
    "metrics.accuracy_score(y_val_bis, y_pred_bis_val)"
   ]
  },
  {
   "cell_type": "code",
   "execution_count": 37,
   "metadata": {},
   "outputs": [
    {
     "data": {
      "text/plain": [
       "0.6505634583410308"
      ]
     },
     "execution_count": 37,
     "metadata": {},
     "output_type": "execute_result"
    }
   ],
   "source": [
    "metrics.accuracy_score(y_test_bis, y_pred_bis)"
   ]
  },
  {
   "cell_type": "code",
   "execution_count": 38,
   "metadata": {},
   "outputs": [],
   "source": [
    "from sklearn.metrics import roc_auc_score"
   ]
  },
  {
   "cell_type": "code",
   "execution_count": 39,
   "metadata": {},
   "outputs": [
    {
     "data": {
      "text/plain": [
       "0.7133769210280405"
      ]
     },
     "execution_count": 39,
     "metadata": {},
     "output_type": "execute_result"
    }
   ],
   "source": [
    "roc_auc_score(y_test_bis, clf2.predict_proba(trans_X_test)[:, 1])"
   ]
  },
  {
   "cell_type": "code",
   "execution_count": 40,
   "metadata": {},
   "outputs": [
    {
     "data": {
      "text/plain": [
       "0.715558743243187"
      ]
     },
     "execution_count": 40,
     "metadata": {},
     "output_type": "execute_result"
    }
   ],
   "source": [
    "roc_auc_score(y_val_bis, clf2.predict_proba(trans_X_val)[:, 1])"
   ]
  },
  {
   "cell_type": "code",
   "execution_count": 41,
   "metadata": {},
   "outputs": [
    {
     "data": {
      "image/png": "[encoded data removed]",
      "text/plain": [
       "<Figure size 432x288 with 1 Axes>"
      ]
     },
     "metadata": {
      "needs_background": "light"
     },
     "output_type": "display_data"
    }
   ],
   "source": [
    "probs = clf2.predict_proba(trans_X_test)  \n",
    "probs = probs[:, 1]  \n",
    "fper, tper, thresholds = roc_curve(y_test_bis, probs) \n",
    "plot_roc_curve(fper, tper)"
   ]
  },
  {
   "cell_type": "code",
   "execution_count": 42,
   "metadata": {},
   "outputs": [],
   "source": [
    "#Save  model\n",
    "import pickle\n",
    "# save the model to disk\n",
    "pickle.dump(clf2, open('app/model/random_model.model', 'wb'))\n",
    "pickle.dump(vectorizer, open(\"app/model/tfidf.pickle\", \"wb\"))\n"
   ]
  },
  {
   "cell_type": "markdown",
   "metadata": {},
   "source": [
    "### Third part"
   ]
  },
  {
   "cell_type": "markdown",
   "metadata": {},
   "source": [
    "In this part we are combining many types of features set : tfidvectorizer, review_stars, review_length,title_length"
   ]
  },
  {
   "cell_type": "code",
   "execution_count": 59,
   "metadata": {},
   "outputs": [],
   "source": [
    "data = pd.read_csv(\"train_master.csv\")"
   ]
  },
  {
   "cell_type": "code",
   "execution_count": null,
   "metadata": {},
   "outputs": [],
   "source": []
  },
  {
   "cell_type": "code",
   "execution_count": 60,
   "metadata": {},
   "outputs": [],
   "source": [
    "data['review_length']  = data['review_content'].str.len()\n",
    "data['title_length'] = data['review_title'].str.len()"
   ]
  },
  {
   "cell_type": "code",
   "execution_count": 61,
   "metadata": {},
   "outputs": [],
   "source": [
    "tfidfvectorizer = TfidfVectorizer(analyzer='word',stop_words= 'french')"
   ]
  },
  {
   "cell_type": "code",
   "execution_count": 62,
   "metadata": {},
   "outputs": [],
   "source": [
    "X_train_bis, X_test_bis, y_train_bis, y_test_bis = train_test_split(data.drop(columns=['Target']), data.Target, test_size=.2, random_state=42)\n",
    "X_train_bis, X_val_bis, y_train_bis, y_val_bis = train_test_split(X_train_bis, y_train_bis, test_size=0.25, random_state=1)"
   ]
  },
  {
   "cell_type": "code",
   "execution_count": null,
   "metadata": {},
   "outputs": [],
   "source": []
  },
  {
   "cell_type": "code",
   "execution_count": 63,
   "metadata": {},
   "outputs": [],
   "source": [
    "vectorizer = TfidfVectorizer().fit(X_train_bis.review_content)"
   ]
  },
  {
   "cell_type": "code",
   "execution_count": 64,
   "metadata": {},
   "outputs": [],
   "source": [
    "trans_X_train = vectorizer.transform(X_train_bis.review_content.tolist())\n",
    "trans_X_test = vectorizer.transform(X_test_bis.review_content.tolist())\n",
    "trans_X_val =  vectorizer.transform(X_val_bis.review_content.tolist())"
   ]
  },
  {
   "cell_type": "code",
   "execution_count": 65,
   "metadata": {},
   "outputs": [],
   "source": [
    "from scipy.sparse import hstack"
   ]
  },
  {
   "cell_type": "code",
   "execution_count": 66,
   "metadata": {},
   "outputs": [
    {
     "data": {
      "text/plain": [
       "<32481x49558 sparse matrix of type '<class 'numpy.float64'>'\n",
       "\twith 874611 stored elements in COOrdinate format>"
      ]
     },
     "execution_count": 66,
     "metadata": {},
     "output_type": "execute_result"
    }
   ],
   "source": [
    "trans_X_train=hstack([trans_X_train,X_train_bis[['review_length','title_length','review_stars']]])\n"
   ]
  },
  {
   "cell_type": "code",
   "execution_count": 69,
   "metadata": {},
   "outputs": [],
   "source": [
    "clf2 = RandomForestClassifier(n_estimators = 100).fit(trans_X_train,y_train_bis)"
   ]
  },
  {
   "cell_type": "code",
   "execution_count": 71,
   "metadata": {},
   "outputs": [],
   "source": [
    "y_pred_bis = clf2.predict(trans_X_test)\n",
    "y_pred_bis_val = clf2.predict(trans_X_val)"
   ]
  },
  {
   "cell_type": "code",
   "execution_count": 72,
   "metadata": {},
   "outputs": [
    {
     "data": {
      "text/plain": [
       "(0.7197490119205603, 0.7076759079885576)"
      ]
     },
     "execution_count": 72,
     "metadata": {},
     "output_type": "execute_result"
    }
   ],
   "source": [
    "roc_auc_score(y_test_bis, clf2.predict_proba(trans_X_test)[:, 1]),roc_auc_score(y_val_bis, clf2.predict_proba(trans_X_val)[:, 1])"
   ]
  },
  {
   "cell_type": "code",
   "execution_count": 73,
   "metadata": {},
   "outputs": [
    {
     "data": {
      "image/png": "[encoded data removed]",
      "text/plain": [
       "<Figure size 432x288 with 1 Axes>"
      ]
     },
     "metadata": {
      "needs_background": "light"
     },
     "output_type": "display_data"
    }
   ],
   "source": [
    "probs = clf2.predict_proba(trans_X_test)  \n",
    "probs = probs[:, 1]  \n",
    "fper, tper, thresholds = roc_curve(y_test_bis, probs) \n",
    "plot_roc_curve(fper, tper)"
   ]
  },
  {
   "cell_type": "code",
   "execution_count": null,
   "metadata": {},
   "outputs": [],
   "source": []
  }
 ],
 "metadata": {
  "kernelspec": {
   "display_name": "Python 3.9.1 64-bit",
   "language": "python",
   "name": "python3"
  },
  "language_info": {
   "codemirror_mode": {
    "name": "ipython",
    "version": 3
   },
   "file_extension": ".py",
   "mimetype": "text/x-python",
   "name": "python",
   "nbconvert_exporter": "python",
   "pygments_lexer": "ipython3",
   "version": "3.9.1"
  },
  "vscode": {
   "interpreter": {
    "hash": "aee8b7b246df8f9039afb4144a1f6fd8d2ca17a180786b69acc140d282b71a49"
   }
  }
 },
 "nbformat": 4,
 "nbformat_minor": 4
}
